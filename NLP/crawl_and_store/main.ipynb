{
 "cells": [
  {
   "cell_type": "code",
   "execution_count": 7,
   "metadata": {},
   "outputs": [],
   "source": [
    "import requests \n",
    "from bs4 import BeautifulSoup \n",
    "from urllib.parse import urljoin"
   ]
  },
  {
   "cell_type": "code",
   "execution_count": 22,
   "metadata": {},
   "outputs": [],
   "source": [
    "def get_link_dantri(url): \n",
    "    html_text = requests.get(url, headers={'User-Agent':'test'})\n",
    "    soup = BeautifulSoup(html_text.text, 'html.parser')\n",
    "    urls = []\n",
    "    div = soup.find(class_ = 'article list')\n",
    "    for article in div.find_all(class_ = 'article-item'): \n",
    "        div_tag = article.find(class_ = 'article-thumb')\n",
    "        a_tag = div_tag.find('a', href = True)\n",
    "        link = a_tag.attrs['href']\n",
    "        url_input = urljoin(url, link)\n",
    "        urls.append(url_input)\n",
    "    print(f\"crawl successful {len(urls)} link\")\n",
    "    return urls \n"
   ]
  },
  {
   "cell_type": "code",
   "execution_count": 23,
   "metadata": {},
   "outputs": [
    {
     "name": "stdout",
     "output_type": "stream",
     "text": [
      "crawl successful 20 link\n"
     ]
    },
    {
     "data": {
      "text/plain": [
       "['https://dantri.com.vn/kinh-doanh/tap-doan-xay-dung-hoa-binh-bao-lai-nho-thanh-ly-tai-san-20230729223250979.htm',\n",
       " 'https://dantri.com.vn/kinh-doanh/co-che-dien-mat-troi-bi-che-bo-cong-thuong-noi-gi-20230730034527009.htm',\n",
       " 'https://dantri.com.vn/kinh-doanh/bi-ricons-yeu-cau-mo-thu-tuc-pha-san-coteccons-van-bao-lai-cao-nhat-2-nam-20230729223841038.htm',\n",
       " 'https://dantri.com.vn/kinh-doanh/vib-cong-bo-loi-nhuan-6-thang-dau-nam-tang-12-roe-dat-29-20230730215425564.htm',\n",
       " 'https://dantri.com.vn/kinh-doanh/loi-giai-bai-toan-thiet-bi-dien-cho-cac-du-an-nha-o-xa-hoi-20230731134419618.htm',\n",
       " 'https://dantri.com.vn/kinh-doanh/he-lo-so-tien-cong-duc-tai-tro-cua-chua-ba-vang-20230729094153339.htm',\n",
       " 'https://dantri.com.vn/kinh-doanh/bi-an-ve-cong-ty-san-xuat-tai-nghe-gia-4000-usd-duoc-messi-tang-dong-doi-20230728182027829.htm',\n",
       " 'https://dantri.com.vn/kinh-doanh/he-lo-phoi-canh-trung-tam-su-kien-cao-cap-o-phia-nam-tphcm-20230731112852937.htm',\n",
       " 'https://dantri.com.vn/kinh-doanh/ty-phu-vuong-lai-dam-bat-dong-san-20230729071355613.htm',\n",
       " 'https://dantri.com.vn/kinh-doanh/nhan-dien-man-huy-dong-von-bang-cach-phan-chia-loi-nhuan-tren-troi-ky-1-20230721114032177.htm',\n",
       " 'https://dantri.com.vn/kinh-doanh/fdi-tang-tro-lai-viet-nam-thu-hut-hon-16-ty-usd-20230728201306948.htm',\n",
       " 'https://dantri.com.vn/kinh-doanh/taxi-truyen-thong-so-hoa-dich-vu-phat-trien-thu-hut-khach-hang-20230730225734409.htm',\n",
       " 'https://dantri.com.vn/kinh-doanh/loi-nhuan-gop-quy-ii-cai-thien-vinamilk-bao-lai-tang-truong-20230730080700084.htm',\n",
       " 'https://dantri.com.vn/kinh-doanh/nguoi-viet-tu-gia-toi-tre-co-the-phai-tra-them-tien-de-tai-che-giay-nhua-20230728153644831.htm',\n",
       " 'https://dantri.com.vn/kinh-doanh/gia-dien-moi-tang-chua-day-3-thang-evn-lai-xin-tang-tiep-20230728170537640.htm',\n",
       " 'https://dantri.com.vn/kinh-doanh/lpbank-nhan-3-giai-thuong-lon-tu-to-chuc-the-hang-dau-quoc-te-jcb-20230730214639460.htm',\n",
       " 'https://dantri.com.vn/kinh-doanh/vinfast-khoi-cong-nha-may-tai-my-20230728141230958.htm',\n",
       " 'https://dantri.com.vn/kinh-doanh/chien-voi-grab-tuong-tre-cua-ong-pham-nhat-vuong-noi-gi-20230728115336333.htm',\n",
       " 'https://dantri.com.vn/kinh-doanh/masan-du-kien-dat-doanh-thu-90000-ty-dong-nam-2023-20230730064217292.htm',\n",
       " 'https://dantri.com.vn/kinh-doanh/noi-buon-giai-chap-nha-ong-bui-thanh-nhon-con-so-huu-bao-nhieu-o-novaland-20230728134206302.htm']"
      ]
     },
     "execution_count": 23,
     "metadata": {},
     "output_type": "execute_result"
    }
   ],
   "source": [
    "get_link_dantri(\"https://dantri.com.vn/kinh-doanh/trang-2.htm\")"
   ]
  },
  {
   "cell_type": "code",
   "execution_count": null,
   "metadata": {},
   "outputs": [],
   "source": [
    "# get content of link \n",
    "def get_content_link(link):\n",
    "    html_text = requests.get(link, headers={''})"
   ]
  }
 ],
 "metadata": {
  "kernelspec": {
   "display_name": "base",
   "language": "python",
   "name": "python3"
  },
  "language_info": {
   "codemirror_mode": {
    "name": "ipython",
    "version": 3
   },
   "file_extension": ".py",
   "mimetype": "text/x-python",
   "name": "python",
   "nbconvert_exporter": "python",
   "pygments_lexer": "ipython3",
   "version": "3.9.7"
  },
  "orig_nbformat": 4
 },
 "nbformat": 4,
 "nbformat_minor": 2
}
