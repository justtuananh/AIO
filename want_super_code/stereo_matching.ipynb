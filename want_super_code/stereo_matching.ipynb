{
 "cells": [
  {
   "cell_type": "markdown",
   "metadata": {},
   "source": [
    "#### stereo matching là quá trình tạo ra đối tượng 3D từ cặp hình ảnh của cùng một cảnh. "
   ]
  },
  {
   "cell_type": "markdown",
   "metadata": {},
   "source": [
    "Công thức : AD(x, y) = |I_left(x, y) - I_right(x - d, y)|\n",
    "Trong đó:\n",
    "\n",
    "AD(x, y) là giá trị \"absolute difference\" tại vị trí (x, y).\n",
    "\n",
    "I_left(x, y) là giá trị pixel tại vị trí (x, y) trong hình ảnh bên trái.\n",
    "\n",
    "I_right(x - d, y) là giá trị pixel tại vị trí (x - d, y) trong hình ảnh bên phải, với d là lệch giữa hai hình ảnh ở trục ngang (disparity)."
   ]
  },
  {
   "cell_type": "code",
   "execution_count": 42,
   "metadata": {},
   "outputs": [
    {
     "data": {
      "text/plain": [
       "True"
      ]
     },
     "execution_count": 42,
     "metadata": {},
     "output_type": "execute_result"
    }
   ],
   "source": [
    "import numpy as np \n",
    "import cv2 \n",
    "left_img = '/home/justtuananh/AI4TUAN/AIO/Source/tsukuba/left.png'\n",
    "right_img = '/home/justtuananh/AI4TUAN/AIO/Source/tsukuba/right.png'\n",
    "\n",
    "# read img \n",
    "left = cv2.imread(left_img, 0)\n",
    "right = cv2.imread(right_img, 0)\n",
    "\n",
    "left = left.astype(np.float32)\n",
    "right = right.astype(np.float32)\n",
    "\n",
    "#print(len(right)) # 288\n",
    "height, width = left.shape\n",
    "# compute cost_space \n",
    "disparity_range = d_range = 16\n",
    "cost_space = np.zeros((height, width, d_range))\n",
    "for d in range(disparity_range): \n",
    "    left_d = left[:, d:width]\n",
    "    right_d = right[:, 0:width - d ]\n",
    "    cost_d = np.abs(left_d -right_d)\n",
    "    cost_space[:, d:width, d] = cost_d \n",
    "\n",
    "scale =  255 / disparity_range \n",
    "depth = np.argmin(cost_space, axis = 2 )\n",
    "depth = depth * scale \n",
    "depth = depth.astype(np.uint8)\n",
    "\n",
    "#save \n",
    "cv2.imwrite(\"disparity_ad.png\", depth)\n",
    "\n"
   ]
  }
 ],
 "metadata": {
  "kernelspec": {
   "display_name": "base",
   "language": "python",
   "name": "python3"
  },
  "language_info": {
   "codemirror_mode": {
    "name": "ipython",
    "version": 3
   },
   "file_extension": ".py",
   "mimetype": "text/x-python",
   "name": "python",
   "nbconvert_exporter": "python",
   "pygments_lexer": "ipython3",
   "version": "3.9.7"
  },
  "orig_nbformat": 4
 },
 "nbformat": 4,
 "nbformat_minor": 2
}
