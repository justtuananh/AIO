{
 "cells": [
  {
   "cell_type": "markdown",
   "metadata": {},
   "source": [
    "# Genetic Algorithm"
   ]
  },
  {
   "cell_type": "markdown",
   "metadata": {},
   "source": [
    "#### Bài tập tối ưu hóa chuỗi nhị phân\n",
    "\n",
    "Giả sử bạn muốn giải quyết bài toán tối ưu hóa chuỗi nhị phân dài 10 bit, trong đó ta cần tìm chuỗi nhị phân có tổng giá trị các bit là lớn nhất"
   ]
  },
  {
   "cell_type": "markdown",
   "metadata": {},
   "source": [
    "## Population"
   ]
  },
  {
   "cell_type": "code",
   "execution_count": 19,
   "metadata": {},
   "outputs": [],
   "source": [
    "import numpy as np\n",
    "\n",
    "def create_binary_population(pop_size, bit_length):\n",
    "    population = np.random.randint(2, size=(pop_size, bit_length))\n",
    "    return population"
   ]
  },
  {
   "cell_type": "code",
   "execution_count": 20,
   "metadata": {},
   "outputs": [
    {
     "name": "stdout",
     "output_type": "stream",
     "text": [
      "Population:\n",
      "[[0 1 0 1 0 1 0 1 0 1]\n",
      " [0 0 0 0 1 1 0 0 1 0]\n",
      " [1 0 1 1 0 0 1 1 0 1]\n",
      " [0 0 0 1 0 1 1 0 1 0]\n",
      " [0 0 1 1 0 0 1 1 1 0]\n",
      " [1 0 0 1 0 1 0 1 1 0]\n",
      " [0 1 0 1 1 1 1 0 1 0]\n",
      " [1 0 0 1 0 1 1 1 1 1]\n",
      " [0 1 0 0 0 0 0 1 0 1]\n",
      " [0 0 1 1 0 1 1 0 0 0]\n",
      " [0 0 1 0 1 0 1 0 1 1]\n",
      " [1 1 0 0 1 1 0 1 0 1]\n",
      " [0 1 0 1 0 0 1 0 0 0]\n",
      " [1 0 0 1 0 0 0 0 0 1]\n",
      " [1 1 0 0 0 1 0 1 0 0]\n",
      " [1 1 0 0 1 1 1 1 1 1]\n",
      " [1 1 0 1 1 1 1 0 1 1]\n",
      " [1 0 1 0 1 0 0 0 1 0]\n",
      " [0 0 0 0 0 0 1 1 1 1]\n",
      " [1 1 1 0 1 1 0 0 0 1]]\n"
     ]
    }
   ],
   "source": [
    "population_size = 20    \n",
    "bit_length = 10\n",
    "\n",
    "population = create_binary_population(population_size, bit_length)\n",
    "print(\"Population:\")\n",
    "print(population)"
   ]
  },
  {
   "cell_type": "markdown",
   "metadata": {},
   "source": [
    "## Evaluation"
   ]
  },
  {
   "cell_type": "code",
   "execution_count": 21,
   "metadata": {},
   "outputs": [],
   "source": [
    "def fitness_binary_individual(individual):\n",
    "    return np.sum(individual)"
   ]
  },
  {
   "cell_type": "code",
   "execution_count": 22,
   "metadata": {},
   "outputs": [
    {
     "name": "stdout",
     "output_type": "stream",
     "text": [
      "Population:\n",
      "[[0 1 0 1 0 1 0 1 0 1]\n",
      " [0 0 0 0 1 1 0 0 1 0]\n",
      " [1 0 1 1 0 0 1 1 0 1]\n",
      " [0 0 0 1 0 1 1 0 1 0]\n",
      " [0 0 1 1 0 0 1 1 1 0]\n",
      " [1 0 0 1 0 1 0 1 1 0]\n",
      " [0 1 0 1 1 1 1 0 1 0]\n",
      " [1 0 0 1 0 1 1 1 1 1]\n",
      " [0 1 0 0 0 0 0 1 0 1]\n",
      " [0 0 1 1 0 1 1 0 0 0]\n",
      " [0 0 1 0 1 0 1 0 1 1]\n",
      " [1 1 0 0 1 1 0 1 0 1]\n",
      " [0 1 0 1 0 0 1 0 0 0]\n",
      " [1 0 0 1 0 0 0 0 0 1]\n",
      " [1 1 0 0 0 1 0 1 0 0]\n",
      " [1 1 0 0 1 1 1 1 1 1]\n",
      " [1 1 0 1 1 1 1 0 1 1]\n",
      " [1 0 1 0 1 0 0 0 1 0]\n",
      " [0 0 0 0 0 0 1 1 1 1]\n",
      " [1 1 1 0 1 1 0 0 0 1]]\n",
      "Fitness values:\n",
      "[5 3 6 4 5 5 6 7 3 4 5 6 3 3 4 8 8 4 4 6]\n"
     ]
    }
   ],
   "source": [
    "fitness_values = np.apply_along_axis(fitness_binary_individual, 1, population)\n",
    "\n",
    "print(\"Population:\")\n",
    "print(population)\n",
    "print(\"Fitness values:\")\n",
    "print(fitness_values)\n"
   ]
  },
  {
   "cell_type": "markdown",
   "metadata": {},
   "source": [
    "## Selection\n"
   ]
  },
  {
   "cell_type": "code",
   "execution_count": 23,
   "metadata": {},
   "outputs": [
    {
     "name": "stdout",
     "output_type": "stream",
     "text": [
      "Population:\n",
      "[[0 1 0 1 0 1 0 1 0 1]\n",
      " [0 0 0 0 1 1 0 0 1 0]\n",
      " [1 0 1 1 0 0 1 1 0 1]\n",
      " [0 0 0 1 0 1 1 0 1 0]\n",
      " [0 0 1 1 0 0 1 1 1 0]\n",
      " [1 0 0 1 0 1 0 1 1 0]\n",
      " [0 1 0 1 1 1 1 0 1 0]\n",
      " [1 0 0 1 0 1 1 1 1 1]\n",
      " [0 1 0 0 0 0 0 1 0 1]\n",
      " [0 0 1 1 0 1 1 0 0 0]\n",
      " [0 0 1 0 1 0 1 0 1 1]\n",
      " [1 1 0 0 1 1 0 1 0 1]\n",
      " [0 1 0 1 0 0 1 0 0 0]\n",
      " [1 0 0 1 0 0 0 0 0 1]\n",
      " [1 1 0 0 0 1 0 1 0 0]\n",
      " [1 1 0 0 1 1 1 1 1 1]\n",
      " [1 1 0 1 1 1 1 0 1 1]\n",
      " [1 0 1 0 1 0 0 0 1 0]\n",
      " [0 0 0 0 0 0 1 1 1 1]\n",
      " [1 1 1 0 1 1 0 0 0 1]]\n",
      "Fitness values:\n",
      "[5 3 6 4 5 5 6 7 3 4 5 6 3 3 4 8 8 4 4 6]\n",
      "Selected population:\n",
      "[[0 0 1 0 1 0 1 0 1 1]\n",
      " [0 0 0 0 0 0 1 1 1 1]\n",
      " [0 1 0 0 0 0 0 1 0 1]\n",
      " [0 0 1 1 0 0 1 1 1 0]\n",
      " [0 0 1 0 1 0 1 0 1 1]\n",
      " [0 0 1 0 1 0 1 0 1 1]\n",
      " [0 0 1 1 0 1 1 0 0 0]\n",
      " [1 1 1 0 1 1 0 0 0 1]\n",
      " [1 1 0 0 1 1 1 1 1 1]\n",
      " [1 1 0 1 1 1 1 0 1 1]\n",
      " [1 1 0 0 0 1 0 1 0 0]\n",
      " [1 0 0 1 0 1 0 1 1 0]\n",
      " [0 0 0 0 1 1 0 0 1 0]\n",
      " [1 1 0 0 1 1 1 1 1 1]\n",
      " [0 0 1 0 1 0 1 0 1 1]\n",
      " [1 1 0 0 1 1 0 1 0 1]\n",
      " [0 1 0 1 0 1 0 1 0 1]\n",
      " [0 0 1 1 0 0 1 1 1 0]\n",
      " [1 1 0 1 1 1 1 0 1 1]\n",
      " [1 1 0 0 1 1 1 1 1 1]]\n"
     ]
    }
   ],
   "source": [
    "def roulette_wheel_selection(population, fitness_values):\n",
    "    total_fitness = np.sum(fitness_values)\n",
    "    selection_probs = fitness_values / total_fitness\n",
    "    selected_indices = np.random.choice(len(population), size=len(population), p=selection_probs)\n",
    "    selected_population = population[selected_indices]\n",
    "    return selected_population\n",
    "\n",
    "\n",
    "selected_population = roulette_wheel_selection(population, fitness_values)\n",
    "\n",
    "print(\"Population:\")\n",
    "print(population)\n",
    "print(\"Fitness values:\")\n",
    "print(fitness_values)\n",
    "print(\"Selected population:\")\n",
    "print(selected_population)\n"
   ]
  },
  {
   "cell_type": "markdown",
   "metadata": {},
   "source": [
    "## CrossOver"
   ]
  },
  {
   "cell_type": "code",
   "execution_count": 17,
   "metadata": {},
   "outputs": [
    {
     "name": "stdout",
     "output_type": "stream",
     "text": [
      "Parent 1:\n",
      "[1 0 1 1 0 0 0 1 0 1]\n",
      "Parent 2:\n",
      "[1 0 1 0 1 1 1 1 1 0]\n",
      "Child 1:\n",
      "[1 0 1 1 1 1 1 1 1 0]\n",
      "Child 2:\n",
      "[1 0 1 0 0 0 0 1 0 1]\n"
     ]
    }
   ],
   "source": [
    "def one_point_crossover(parent1, parent2):\n",
    "    crossover_point = np.random.randint(1, len(parent1))  # Chọn một điểm chia ngẫu nhiên\n",
    "    child1 = np.concatenate((parent1[:crossover_point], parent2[crossover_point:]))\n",
    "    child2 = np.concatenate((parent2[:crossover_point], parent1[crossover_point:]))\n",
    "    return child1, child2\n",
    "\n",
    "# Chọn ngẫu nhiên hai cá thể cha mẹ từ quần thể\n",
    "parent1_idx, parent2_idx = np.random.choice(population_size, size=2, replace=False)\n",
    "parent1 = selected_population[parent1_idx]\n",
    "parent2 = selected_population[parent2_idx]\n",
    "\n",
    "child1, child2 = one_point_crossover(parent1, parent2)\n",
    "\n",
    "print(\"Parent 1:\")\n",
    "print(parent1)\n",
    "print(\"Parent 2:\")\n",
    "print(parent2)\n",
    "print(\"Child 1:\")\n",
    "print(child1)\n",
    "print(\"Child 2:\")\n",
    "print(child2)\n"
   ]
  },
  {
   "cell_type": "markdown",
   "metadata": {},
   "source": [
    "# Mutation"
   ]
  },
  {
   "cell_type": "code",
   "execution_count": 25,
   "metadata": {},
   "outputs": [],
   "source": [
    "def bit_flip_mutation(individual, mutation_rate):\n",
    "    mutated_individual = individual.copy()\n",
    "    for i in range(len(mutated_individual)):\n",
    "        if np.random.rand() < mutation_rate:\n",
    "            mutated_individual[i] = 1 - mutated_individual[i]  # Đảo bit 0 thành 1 và 1 thành 0\n",
    "    return mutated_individual"
   ]
  },
  {
   "cell_type": "code",
   "execution_count": 27,
   "metadata": {},
   "outputs": [
    {
     "name": "stdout",
     "output_type": "stream",
     "text": [
      "child 1 [1 0 1 1 1 1 1 1 1 0]\n",
      "child 1 mutation [0 1 0 0 0 0 0 0 0 1]\n"
     ]
    }
   ],
   "source": [
    "mutation_rate = 0.9\n",
    "\n",
    "# child 1 mutation\n",
    "child1_mutation = bit_flip_mutation(child1, mutation_rate)\n",
    "print('child 1', child1)\n",
    "print('child 1 mutation', child1_mutation)\n"
   ]
  },
  {
   "cell_type": "markdown",
   "metadata": {},
   "source": [
    "## Replacement and Termination"
   ]
  },
  {
   "cell_type": "code",
   "execution_count": 28,
   "metadata": {},
   "outputs": [],
   "source": [
    "import numpy as np\n",
    "\n",
    "def create_binary_population(pop_size, bit_length):\n",
    "    population = np.random.randint(2, size=(pop_size, bit_length))\n",
    "    return population\n",
    "    \n",
    "def fitness_binary_individual(individual):\n",
    "    return np.sum(individual)\n",
    "\n",
    "def roulette_wheel_selection(population, fitness_values):\n",
    "    total_fitness = np.sum(fitness_values)\n",
    "    selection_probs = fitness_values / total_fitness\n",
    "    selected_indices = np.random.choice(len(population), size=len(population), p=selection_probs)\n",
    "    selected_population = population[selected_indices]\n",
    "    return selected_population\n",
    "\n",
    "def one_point_crossover(parent1, parent2):\n",
    "    crossover_point = np.random.randint(1, len(parent1))  # Chọn một điểm chia ngẫu nhiên\n",
    "    child1 = np.concatenate((parent1[:crossover_point], parent2[crossover_point:]))\n",
    "    child2 = np.concatenate((parent2[:crossover_point], parent1[crossover_point:]))\n",
    "    return child1, child2\n",
    "\n",
    "def bit_flip_mutation(individual, mutation_rate):\n",
    "    mutated_individual = individual.copy()\n",
    "    for i in range(len(mutated_individual)):\n",
    "        if np.random.rand() < mutation_rate:\n",
    "            mutated_individual[i] = 1 - mutated_individual[i]  # Đảo bit 0 thành 1 và 1 thành 0\n",
    "    return mutated_individual"
   ]
  },
  {
   "cell_type": "code",
   "execution_count": 44,
   "metadata": {},
   "outputs": [
    {
     "name": "stdout",
     "output_type": "stream",
     "text": [
      "Best: 13\n",
      "Best: 13\n",
      "Best: 13\n",
      "Best: 13\n",
      "Best: 13\n",
      "Best: 14\n",
      "Best: 14\n",
      "Best: 15\n",
      "Best: 14\n",
      "Best: 15\n",
      "Best: 15\n",
      "Best: 15\n",
      "Best: 15\n",
      "Best: 15\n",
      "Best: 15\n",
      "Best: 16\n",
      "Best: 15\n",
      "Best: 16\n",
      "Best: 17\n",
      "Best: 16\n",
      "Best: 16\n",
      "Best: 16\n",
      "Best: 17\n",
      "Best: 16\n",
      "Best: 16\n",
      "Best: 16\n",
      "Best: 16\n",
      "Best: 17\n",
      "Best: 17\n",
      "Best: 16\n",
      "Best: 17\n",
      "Best: 17\n",
      "Best: 17\n",
      "Best: 17\n",
      "Best: 17\n",
      "Best: 17\n",
      "Best: 16\n",
      "Best: 17\n",
      "Best: 17\n",
      "Best: 17\n",
      "Best: 17\n",
      "Best: 16\n",
      "Best: 17\n",
      "Best: 18\n",
      "Best: 18\n",
      "Best: 17\n",
      "Best: 17\n",
      "Best: 17\n",
      "Best: 17\n",
      "Best: 17\n"
     ]
    }
   ],
   "source": [
    "population_size = 20\n",
    "bit_length = 20\n",
    "n_generations = 50\n",
    "mutation_rate = 0.01\n",
    "\n",
    "fitnesses = []\n",
    "population = create_binary_population(pop_size=population_size, bit_length=bit_length)\n",
    "\n",
    "for i in range(n_generations):\n",
    "    fitness_values = np.apply_along_axis(fitness_binary_individual, 1, population)\n",
    "    fitnesses.append(np.max(fitness_values))\n",
    "    print(\"Best:\",np.max(fitness_values))\n",
    "\n",
    "    selected_population = roulette_wheel_selection(population, fitness_values)\n",
    "    new_population = []\n",
    "\n",
    "    while(len(new_population) < population_size):\n",
    "        # Selection\n",
    "        # Chọn ngẫu nhiên hai cá thể cha mẹ từ quần thể\n",
    "        parent1_idx, parent2_idx = np.random.choice(population_size, size=2, replace=False)\n",
    "        parent1 = selected_population[parent1_idx]\n",
    "        parent2 = selected_population[parent2_idx]\n",
    "\n",
    "        # Crossover\n",
    "        child1, child2 = one_point_crossover(parent1, parent2)\n",
    "\n",
    "        # Mutation\n",
    "        child1_mutation = bit_flip_mutation(child1, mutation_rate)\n",
    "        child2_mutation = bit_flip_mutation(child2, mutation_rate)\n",
    "\n",
    "        # Add children to new population\n",
    "        new_population.append(child1_mutation)\n",
    "        new_population.append(child2_mutation)\n",
    "    if n_generations % 2 == 0: \n",
    "        population = np.array(new_population)\n",
    "    else:\n",
    "        population = np.array(new_population[:-1])\n"
   ]
  },
  {
   "cell_type": "code",
   "execution_count": 45,
   "metadata": {},
   "outputs": [
    {
     "data": {
      "image/png": "[encoded data removed]",
      "text/plain": [
       "<Figure size 640x480 with 1 Axes>"
      ]
     },
     "metadata": {},
     "output_type": "display_data"
    }
   ],
   "source": [
    "import matplotlib.pyplot as plt\n",
    "\n",
    "plt.plot(fitnesses)\n",
    "plt.xlabel('Generations')\n",
    "plt.ylabel('Fitness')\n",
    "plt.show()"
   ]
  },
  {
   "cell_type": "code",
   "execution_count": null,
   "metadata": {},
   "outputs": [],
   "source": []
  }
 ],
 "metadata": {
  "kernelspec": {
   "display_name": "genetic_env",
   "language": "python",
   "name": "python3"
  },
  "language_info": {
   "codemirror_mode": {
    "name": "ipython",
    "version": 3
   },
   "file_extension": ".py",
   "mimetype": "text/x-python",
   "name": "python",
   "nbconvert_exporter": "python",
   "pygments_lexer": "ipython3",
   "version": "3.8.17"
  },
  "orig_nbformat": 4
 },
 "nbformat": 4,
 "nbformat_minor": 2
}
